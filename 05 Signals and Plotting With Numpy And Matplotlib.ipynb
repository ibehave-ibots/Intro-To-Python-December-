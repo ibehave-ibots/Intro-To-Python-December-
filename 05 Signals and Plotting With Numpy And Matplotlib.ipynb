{
 "cells": [
  {
   "cell_type": "code",
   "execution_count": null,
   "metadata": {},
   "outputs": [],
   "source": [
    "%pip install --upgrade --user xarray matplotlib numpy scipy pandas pyarrow"
   ]
  },
  {
   "cell_type": "code",
   "execution_count": null,
   "metadata": {},
   "outputs": [],
   "source": [
    "import xarray as xr\n",
    "import matplotlib.pyplot as plt\n",
    "import numpy as np\n",
    "from scipy.fft import fft, fftfreq\n",
    "from scipy.signal import square, sawtooth, chirp"
   ]
  },
  {
   "cell_type": "markdown",
   "metadata": {},
   "source": [
    "# Signals and plotting with Numpy and Matplotlib\n",
    "\n",
    "### Overview\n",
    "\n",
    "Signal analysis is key to uncovering patterns in time series data like EEG or LFP recordings. And to get a better understanding of the signals we are working with, it's important to visualize them clearly. Here, we will work with different generated signals and make figures that display those signals in a way that makes the plots easy to read.\n",
    "\n",
    "#### Learning Goals\n",
    "\n",
    "In this notebook, we will focus on generating various types of signals using Python's [**Numpy**](https://numpy.org/) and [**Scipy**](https://docs.scipy.org/) packages as well as Python's built-in functions and plot them with [**Matplotlib**](https://matplotlib.org/)."
   ]
  },
  {
   "cell_type": "markdown",
   "metadata": {},
   "source": [
    "---"
   ]
  },
  {
   "cell_type": "markdown",
   "metadata": {},
   "source": [
    "## Generating Periodic Signals\n",
    "\n",
    "Periodic waveforms play a vital role in neuroscience as models for rhythmic stimuli and neural oscillations. By generating such waveforms we can, for instance, simulate neural activity that exhibit periodic behavior in response to visual stimuli, such as flashing lights or gradual intensity changes.\n",
    "\n",
    "This section provides a hands-on introduction to creating and visualizing periodic waveforms using the `scipy.signal` module. Through a series of exercises, we'll explore the characteristics of square and sawtooth waves at various frequencies. We will also explore generating chirp using the `chirp` method (a chirp is a signal in which the frequency increases ('up-chirp') or decreases ('down-chirp') with time). We will use the same `chirp` method to create cosine waves too!\n",
    "\n",
    "\n",
    "| Code                             | Description                                                                                   |\n",
    "|----------------------------------|-----------------------------------------------------------------------------------------------|\n",
    "| `np.pi`                          | The mathematical constant π, approximately 3.14159.                                           |\n",
    "| `np.linspace(start, stop, n)`    | Generates an array of `n` evenly spaced values from `start` to `stop`.                        |\n",
    "| `square(2 * np.pi * f * t)`      | Generates a square wave with frequency `f` over time array `t`.                               |\n",
    "| `sawtooth(2 * np.pi * f * t)`    | Produces a sawtooth wave with frequency `f` over time array `t`.                              |\n",
    "| `plt.plot(x, y)`                 | Plots the data in `y` against the corresponding values in `x`.                                |\n"
   ]
  },
  {
   "cell_type": "markdown",
   "metadata": {},
   "source": [
    "**Example** Create a 1 Hz square wave sampled 100 times for 1 second."
   ]
  },
  {
   "cell_type": "code",
   "execution_count": null,
   "metadata": {},
   "outputs": [],
   "source": [
    "f = 1 # Hz\n",
    "t = np.linspace(0, 1, 100)\n",
    "w = square(2 * np.pi * f * t)\n",
    "plt.plot(t, w)"
   ]
  },
  {
   "cell_type": "markdown",
   "metadata": {},
   "source": [
    "This is a square wave of 1 Hz frequency. A frequency of `n` Hz means that the pattern you see above repeats `n` times in a second. Let's see that happen in the following exercises."
   ]
  },
  {
   "cell_type": "markdown",
   "metadata": {},
   "source": [
    "Create a 2 Hz square wave sampled 100 times for 1 second. How many repetitions of the pattern do you see here?"
   ]
  },
  {
   "cell_type": "code",
   "execution_count": null,
   "metadata": {},
   "outputs": [],
   "source": []
  },
  {
   "cell_type": "markdown",
   "metadata": {},
   "source": [
    "Create a 10 Hz square wave sampled 100 times for 1 second."
   ]
  },
  {
   "cell_type": "code",
   "execution_count": null,
   "metadata": {},
   "outputs": [],
   "source": []
  },
  {
   "cell_type": "markdown",
   "metadata": {},
   "source": [
    "Using the `sawtooth` function, create a 5 Hz sawtooth signal sampled 100 times for 1 second."
   ]
  },
  {
   "cell_type": "code",
   "execution_count": null,
   "metadata": {},
   "outputs": [],
   "source": []
  },
  {
   "cell_type": "markdown",
   "metadata": {},
   "source": [
    "Numpy arrays are built for mathematical operations. For example, we can re-generate the signal we created before with double the magnitude simply by multiplying the signal `w` by $2$:"
   ]
  },
  {
   "cell_type": "code",
   "execution_count": null,
   "metadata": {},
   "outputs": [],
   "source": []
  },
  {
   "cell_type": "markdown",
   "metadata": {},
   "source": [
    "Numpy package also provides many useful functions that we can use to transform our data. For instance `np.exp()` or `np.log()`.\n",
    "\n",
    "Write the code for $z = \\exp(t) \\cdot w$, where $w$ is the sawtooth waveform and $t$ is time. Plot the resulting $z$ over time."
   ]
  },
  {
   "cell_type": "code",
   "execution_count": null,
   "metadata": {},
   "outputs": [],
   "source": []
  },
  {
   "cell_type": "markdown",
   "metadata": {},
   "source": [
    "### Chirp Signal\n",
    "\n",
    "A chirp is a signal in which the frequency increases or decreases over time. In the context of the `scipy.signal.chirp` function, the signal starts at frequency `f0` and linearly changes to frequency `f1` by time `t1`. The rate of this frequency change can follow different methods; when the 'linear' method is used, the frequency changes at a constant rate.\n",
    "\n",
    "Here is a summary table for the examples of chirp signals:\n",
    "\n",
    "| Example               | Start Frequency (`f0`) | End Frequency (`f1`) | Time (`t1`) | Frequency Change        | Description                       |\n",
    "|-----------------------|------------------------|----------------------|-------------|-------------------------|-----------------------------------|\n",
    "| Constant Frequency    | 5 Hz                   | 5 Hz                 | 10 s        | None (Constant)         | A sine wave with a constant frequency. |\n",
    "| Increasing Frequency  | 5 Hz                   | 10 Hz                | 10 s        | Linear Increase         | A sine wave that linearly increases in frequency over time. |\n",
    "| Decreasing Frequency  | 10 Hz                  | 5 Hz                 | 10 s        | Linear Decrease         | A sine wave that linearly decreases in frequency over time. |"
   ]
  },
  {
   "cell_type": "markdown",
   "metadata": {},
   "source": [
    "**Example** Generate constant frequency (1Hz) signal with `chirp`"
   ]
  },
  {
   "cell_type": "code",
   "execution_count": null,
   "metadata": {},
   "outputs": [],
   "source": [
    "t = np.linspace(0, 1, 1000)\n",
    "w = chirp(t, f0=1, f1=1, t1=1)\n",
    "plt.plot(t, w)"
   ]
  },
  {
   "cell_type": "markdown",
   "metadata": {},
   "source": [
    "Generate a chirp signal that starts at a frequency of 1 Hz and increases to 10 Hz over a duration of 1 second."
   ]
  },
  {
   "cell_type": "code",
   "execution_count": null,
   "metadata": {},
   "outputs": [],
   "source": []
  },
  {
   "cell_type": "markdown",
   "metadata": {},
   "source": [
    "Generate the same chirp signal as in the last exercise but with a decreasing frequency."
   ]
  },
  {
   "cell_type": "code",
   "execution_count": null,
   "metadata": {},
   "outputs": [],
   "source": []
  },
  {
   "cell_type": "markdown",
   "metadata": {},
   "source": [
    "What other options are available in the `chirp` function to control the change of frequency over time? Look up the available `methods` that you can use in the [documentation](https://docs.scipy.org/doc/scipy/reference/generated/scipy.signal.chirp.html) for the `chirp` function. Make different chirp signals using the different methods and plot all signals together in one plot."
   ]
  },
  {
   "cell_type": "code",
   "execution_count": null,
   "metadata": {},
   "outputs": [],
   "source": []
  },
  {
   "cell_type": "markdown",
   "metadata": {},
   "source": [
    "Let's label each line plot so it's clear which line comes from which method. We can do this by:\n",
    "1. setting the `label` argument of the `plt.plot()` function.\n",
    "2. calling `plt.legend()` at the end to make the legend appear in the plot."
   ]
  },
  {
   "cell_type": "code",
   "execution_count": null,
   "metadata": {},
   "outputs": [],
   "source": []
  },
  {
   "cell_type": "markdown",
   "metadata": {},
   "source": [
    "As a final step let's make the figure wider so we can see the difference between the lines a bit more clearly. \n",
    "\n",
    "This is a figure-level property that we want to change. We can specify figure-level properties using the function `plt.figure()` which will be placed in the very beginning of the visualization code.\n",
    "\n",
    "Here, we want to change the figure size which we can do by setting the `figsize` argument: `plt.figure(figsize=(15, 3))`. The first value specifies the width, and the second value specified the height. Let's try it!"
   ]
  },
  {
   "cell_type": "code",
   "execution_count": null,
   "metadata": {},
   "outputs": [],
   "source": []
  },
  {
   "cell_type": "markdown",
   "metadata": {},
   "source": [
    "---"
   ]
  },
  {
   "cell_type": "markdown",
   "metadata": {},
   "source": [
    "## Create Composite Signals\n",
    "\n",
    "In this section, we will learn about combining multiple periodic signals together, creating more complex signals.\n",
    "\n",
    "We will make use of matplotlib and how powerful it is in customizing plots\n",
    "\n",
    "\n",
    "| Code | Description |\n",
    "| ---- | ----------- |\n",
    "| `np.linspace(start, stop, n_points)` | Create `n_points` equally spaced values between `start` and `stop`. |\n",
    "| `plt.plot(x, y)` | Plot `x` on the x-axis and `y` on the y-axis. |\n",
    "| `plt.xlabel('X-axis')` | Set the x-axis label as 'X-axis'. |\n",
    "| `plt.ylabel('Y-axis')` | Set the y-axis label as 'Y-axis'. |\n",
    "| `np.random.randn(n_points)` | Generate `n_points` random values drawn from a standard normal distribution. |"
   ]
  },
  {
   "cell_type": "markdown",
   "metadata": {},
   "source": [
    "**Example** Create a composite wave from two square waves"
   ]
  },
  {
   "cell_type": "code",
   "execution_count": null,
   "metadata": {},
   "outputs": [],
   "source": [
    "f1 = 1\n",
    "f2 = 3\n",
    "t = np.linspace(0, 1, 1000)\n",
    "w1 = square(2 * np.pi * f1 * t)\n",
    "w2 = square(2 * np.pi * f2 * t)\n",
    "plt.plot(t, w1 + w2)"
   ]
  },
  {
   "cell_type": "markdown",
   "metadata": {},
   "source": [
    "Create composite wave made of a 10-Hz sawtooth and a 1-Hz square wave"
   ]
  },
  {
   "cell_type": "code",
   "execution_count": null,
   "metadata": {},
   "outputs": [],
   "source": []
  },
  {
   "cell_type": "markdown",
   "metadata": {},
   "source": [
    "**Example** Create a composite signal made of two chirps and add axis labels and title with legend"
   ]
  },
  {
   "cell_type": "code",
   "execution_count": null,
   "metadata": {},
   "outputs": [],
   "source": [
    "t = np.linspace(0, 1, 1000)\n",
    "\n",
    "w1 = chirp(t, f0=20, f1=1, t1=1)\n",
    "w2 = chirp(t, f0=1, f1=50, t1=1)\n",
    "\n",
    "plt.plot(t, w1+w2)\n",
    "\n",
    "plt.xlabel('Time [s]')\n",
    "plt.ylabel('Value [some unit]')\n",
    "plt.title('Composite signal of two chirps')"
   ]
  },
  {
   "cell_type": "markdown",
   "metadata": {},
   "source": [
    "Let's learn a bit more about matplotlib and optimize this figure further.\n",
    "\n",
    "We already specified some \"axes-level\" properties in the last exercise. In the following exercises, Let's change both \"figure-level\" properties as well the the arguments in the plotting function to improve our plot."
   ]
  },
  {
   "cell_type": "markdown",
   "metadata": {},
   "source": [
    "Let's start by making the figure a bit wider as we did before."
   ]
  },
  {
   "cell_type": "code",
   "execution_count": null,
   "metadata": {},
   "outputs": [],
   "source": [
    "t = np.linspace(0, 1, 1000)\n",
    "\n",
    "w1 = chirp(t, f0=20, f1=1, t1=1)\n",
    "w2 = chirp(t, f0=1, f1=50, t1=1)\n",
    "\n",
    "w = w1 + w2"
   ]
  },
  {
   "cell_type": "code",
   "execution_count": null,
   "metadata": {},
   "outputs": [],
   "source": []
  },
  {
   "cell_type": "markdown",
   "metadata": {},
   "source": [
    "Make the line a bit thicker by setting the `linewidth` argument in the `plt.plot()` function."
   ]
  },
  {
   "cell_type": "code",
   "execution_count": null,
   "metadata": {},
   "outputs": [],
   "source": []
  },
  {
   "cell_type": "markdown",
   "metadata": {},
   "source": [
    "Change the color to black by setting the `color` argument."
   ]
  },
  {
   "cell_type": "code",
   "execution_count": null,
   "metadata": {},
   "outputs": [],
   "source": []
  },
  {
   "cell_type": "markdown",
   "metadata": {},
   "source": [
    "Make the resolution higher by setting the \"figure-level\" property `dpi`. Let's try a dpi of 200 for instance."
   ]
  },
  {
   "cell_type": "code",
   "execution_count": null,
   "metadata": {},
   "outputs": [],
   "source": []
  },
  {
   "cell_type": "markdown",
   "metadata": {},
   "source": [
    "You can play around with the `figsize` and `dpi` to adjust the fontsize in the figure. For instance, a higher `dpi` combined with a lower `figsize` results in bigger fontsize. "
   ]
  },
  {
   "cell_type": "code",
   "execution_count": null,
   "metadata": {},
   "outputs": [],
   "source": []
  },
  {
   "cell_type": "markdown",
   "metadata": {},
   "source": [
    "### Plotting multiple signals together in the same figure with subplots\n",
    "\n",
    "| Code                                    | Description                                            |\n",
    "| --------------------------------------- | ------------------------------------------------------ |\n",
    "| `plt.plot(x, y)` | Plot y values against x values. |\n",
    "| `plt.subplot(nrows, ncols, nindex)` | `plt.subplot(211)` tells Python to create a grid of subplots with 2 rows and 1 column and to use the first subplot (top plot) for the current plotting commands. If you were to add another plotting command with plt.subplot(212), it would plot in the second subplot (bottom plot). |\n",
    "| `plt.tight_layout()` | Adjust the padding between and around subplots. |\n",
    "| `plt.savefig(filename)` | Save the figure as an image or vector graphic file. |\n",
    "| `fig, axes = plt.subplots(nrows, ncols, sharex = True)` | Another method to create figure with subplots (notice the `s` at the end of `subplots` here, that makes it a different function). `axes` can be indexed to refer to a specific subplot, f.ex. the subplot on the first row and second column would be `axes[0,1]`. Setting `sharex` or `sharey` to be `True` forces the x- or y-axis, respectively, to be the same across different subplots. |\n"
   ]
  },
  {
   "cell_type": "markdown",
   "metadata": {},
   "source": [
    "**Example:** Make a figure with subplots where the composite signal is plotted in the third subplot and two original signals `w1` and `w2` are plotted in the first and second subplot, respectively."
   ]
  },
  {
   "cell_type": "code",
   "execution_count": null,
   "metadata": {},
   "outputs": [],
   "source": [
    "t = np.linspace(0, 1, 1000)\n",
    "\n",
    "w1 = chirp(t, f0=20, f1=1, t1=1)\n",
    "w2 = chirp(t, f0=1, f1=50, t1=1)\n",
    "\n",
    "plt.subplot(311)\n",
    "plt.plot(t, w1)\n",
    "\n",
    "plt.title('First chirp')\n",
    "\n",
    "plt.subplot(312)\n",
    "plt.plot(t, w2)\n",
    "\n",
    "plt.title('Second chirp')\n",
    "\n",
    "plt.subplot(313)\n",
    "plt.plot(t, w1+w2)\n",
    "\n",
    "plt.title('Composite signal of two chirps')\n",
    "\n",
    "plt.xlabel('Time [s]')\n",
    "plt.ylabel('Value [some unit]')"
   ]
  },
  {
   "cell_type": "markdown",
   "metadata": {},
   "source": [
    "**Example**: As you can see, the different subplots partly cover one another, which is not good. Adding ``plt.tight_layout`` to the code adjusts the padding around the subplots so that they don't overlap."
   ]
  },
  {
   "cell_type": "code",
   "execution_count": null,
   "metadata": {},
   "outputs": [],
   "source": [
    "t = np.linspace(0, 1, 1000)\n",
    "\n",
    "w1 = chirp(t, f0=20, f1=1, t1=1)\n",
    "w2 = chirp(t, f0=1, f1=50, t1=1)\n",
    "\n",
    "plt.subplot(311)\n",
    "plt.plot(t, w1)\n",
    "\n",
    "plt.title('First chirp')\n",
    "\n",
    "plt.subplot(312)\n",
    "plt.plot(t, w2)\n",
    "\n",
    "plt.title('Second chirp')\n",
    "\n",
    "plt.subplot(313)\n",
    "plt.plot(t, w1+w2)\n",
    "\n",
    "plt.title('Composite signal of two chirps')\n",
    "\n",
    "plt.xlabel('Time [s]')\n",
    "plt.ylabel('Value [some unit]')\n",
    "\n",
    "plt.tight_layout()"
   ]
  },
  {
   "cell_type": "markdown",
   "metadata": {},
   "source": [
    "**Exercise**: Make a figure with 4 subplots where subplots 1 to 3 show three different composite signals and the 4th subplot shows the composite signal."
   ]
  },
  {
   "cell_type": "code",
   "execution_count": null,
   "metadata": {},
   "outputs": [],
   "source": []
  },
  {
   "cell_type": "markdown",
   "metadata": {},
   "source": [
    "As a final step let's save the figure using the `plt.savefig()` method. You can adjust the figure size, linewidths, and color of the lines using the parameters you learned about above.\n",
    "\n",
    "**Hint:** to make sure all the elements of the plot are included in the saved figure set `bbox_inches=\"tight\"` in the `plt.savefig()` function."
   ]
  },
  {
   "cell_type": "code",
   "execution_count": null,
   "metadata": {},
   "outputs": [],
   "source": []
  },
  {
   "cell_type": "markdown",
   "metadata": {},
   "source": [
    "---"
   ]
  }
 ],
 "metadata": {
  "kernelspec": {
   "display_name": "intro_to_python_workshop_test",
   "language": "python",
   "name": "python3"
  },
  "language_info": {
   "codemirror_mode": {
    "name": "ipython",
    "version": 3
   },
   "file_extension": ".py",
   "mimetype": "text/x-python",
   "name": "python",
   "nbconvert_exporter": "python",
   "pygments_lexer": "ipython3",
   "version": "3.12.7"
  }
 },
 "nbformat": 4,
 "nbformat_minor": 4
}
