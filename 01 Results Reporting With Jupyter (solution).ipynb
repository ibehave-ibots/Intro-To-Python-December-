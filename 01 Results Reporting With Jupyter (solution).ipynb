{
 "cells": [
  {
   "cell_type": "code",
   "execution_count": 1,
   "id": "dd97d00b",
   "metadata": {},
   "outputs": [],
   "source": [
    "# %pip install pandas seaborn pingouin"
   ]
  },
  {
   "cell_type": "code",
   "execution_count": 2,
   "id": "a4c401c0",
   "metadata": {
    "cell_id": "00000-89fff6f0-8997-4f4b-ad02-c07eca537b8c",
    "deepnote_cell_type": "code",
    "deepnote_to_be_reexecuted": false,
    "execution_millis": 0,
    "execution_start": 1628779729427,
    "id": "bottom-declaration",
    "source_hash": "9b82ee11"
   },
   "outputs": [],
   "source": [
    "import pandas as pd\n",
    "import pingouin as pg\n",
    "import seaborn as sns"
   ]
  },
  {
   "cell_type": "markdown",
   "id": "c5dd7da9",
   "metadata": {},
   "source": [
    "## Using Data Science Notebooks to Report Analysis Results\n",
    "\n"
   ]
  },
  {
   "cell_type": "markdown",
   "id": "f50982fb",
   "metadata": {},
   "source": [
    "\n",
    "Data science notebooks, like Jupyter Notebooks, have changed how researchers do and share their work. These notebooks let you mix code, data, and text in one place. This helps researchers explain their methods and show their results clearly. You can include code, text, equations, charts, and even videos. This makes it easier to share complex ideas with others, like peers, reviewers, and the public.\n",
    "\n",
    "One big benefit of data science notebooks is that they help make research reproducible. Reproducibility means that others can repeat your work and get the same results. Notebooks save the whole process of your analysis, from data cleaning to final results. By sharing the notebook, you give others everything they need to repeat your study, including the exact code and outputs. This builds trust in your findings and helps others build on your work.\n",
    "\n",
    "In this notebook, we'll try out the following Python packages, doing a few analyses and showing their results right next to the code:\n",
    "  -  `pandas`: Makes it simple to reference variables in a study and show a table of the data, \n",
    "  - `seaborn`: Makes it simple to make plots from pandas tables,\n",
    "  - `pingouin`: Makes nice statistical tables from pandas tables."
   ]
  },
  {
   "cell_type": "markdown",
   "id": "f7f5f14e",
   "metadata": {},
   "source": [
    "### Our Dataset: The Passengers on the Titanic\n",
    "\n",
    "below, we load the data.  Every row is a passenger, every column is a variable about that passenger.  Please run the code and take a look at the dataset.  We'll use it in the next two sections."
   ]
  },
  {
   "cell_type": "code",
   "execution_count": 3,
   "id": "405cf086",
   "metadata": {},
   "outputs": [
    {
     "data": {
      "text/html": [
       "<div>\n",
       "<style scoped>\n",
       "    .dataframe tbody tr th:only-of-type {\n",
       "        vertical-align: middle;\n",
       "    }\n",
       "\n",
       "    .dataframe tbody tr th {\n",
       "        vertical-align: top;\n",
       "    }\n",
       "\n",
       "    .dataframe thead th {\n",
       "        text-align: right;\n",
       "    }\n",
       "</style>\n",
       "<table border=\"1\" class=\"dataframe\">\n",
       "  <thead>\n",
       "    <tr style=\"text-align: right;\">\n",
       "      <th></th>\n",
       "      <th>survived</th>\n",
       "      <th>pclass</th>\n",
       "      <th>sex</th>\n",
       "      <th>age</th>\n",
       "      <th>sibsp</th>\n",
       "      <th>parch</th>\n",
       "      <th>fare</th>\n",
       "      <th>embarked</th>\n",
       "      <th>class</th>\n",
       "      <th>who</th>\n",
       "      <th>adult_male</th>\n",
       "      <th>deck</th>\n",
       "      <th>embark_town</th>\n",
       "      <th>alive</th>\n",
       "      <th>alone</th>\n",
       "    </tr>\n",
       "  </thead>\n",
       "  <tbody>\n",
       "    <tr>\n",
       "      <th>0</th>\n",
       "      <td>0</td>\n",
       "      <td>3</td>\n",
       "      <td>male</td>\n",
       "      <td>22.0</td>\n",
       "      <td>1</td>\n",
       "      <td>0</td>\n",
       "      <td>7.2500</td>\n",
       "      <td>S</td>\n",
       "      <td>Third</td>\n",
       "      <td>man</td>\n",
       "      <td>True</td>\n",
       "      <td>NaN</td>\n",
       "      <td>Southampton</td>\n",
       "      <td>no</td>\n",
       "      <td>False</td>\n",
       "    </tr>\n",
       "    <tr>\n",
       "      <th>1</th>\n",
       "      <td>1</td>\n",
       "      <td>1</td>\n",
       "      <td>female</td>\n",
       "      <td>38.0</td>\n",
       "      <td>1</td>\n",
       "      <td>0</td>\n",
       "      <td>71.2833</td>\n",
       "      <td>C</td>\n",
       "      <td>First</td>\n",
       "      <td>woman</td>\n",
       "      <td>False</td>\n",
       "      <td>C</td>\n",
       "      <td>Cherbourg</td>\n",
       "      <td>yes</td>\n",
       "      <td>False</td>\n",
       "    </tr>\n",
       "    <tr>\n",
       "      <th>2</th>\n",
       "      <td>1</td>\n",
       "      <td>3</td>\n",
       "      <td>female</td>\n",
       "      <td>26.0</td>\n",
       "      <td>0</td>\n",
       "      <td>0</td>\n",
       "      <td>7.9250</td>\n",
       "      <td>S</td>\n",
       "      <td>Third</td>\n",
       "      <td>woman</td>\n",
       "      <td>False</td>\n",
       "      <td>NaN</td>\n",
       "      <td>Southampton</td>\n",
       "      <td>yes</td>\n",
       "      <td>True</td>\n",
       "    </tr>\n",
       "    <tr>\n",
       "      <th>3</th>\n",
       "      <td>1</td>\n",
       "      <td>1</td>\n",
       "      <td>female</td>\n",
       "      <td>35.0</td>\n",
       "      <td>1</td>\n",
       "      <td>0</td>\n",
       "      <td>53.1000</td>\n",
       "      <td>S</td>\n",
       "      <td>First</td>\n",
       "      <td>woman</td>\n",
       "      <td>False</td>\n",
       "      <td>C</td>\n",
       "      <td>Southampton</td>\n",
       "      <td>yes</td>\n",
       "      <td>False</td>\n",
       "    </tr>\n",
       "    <tr>\n",
       "      <th>4</th>\n",
       "      <td>0</td>\n",
       "      <td>3</td>\n",
       "      <td>male</td>\n",
       "      <td>35.0</td>\n",
       "      <td>0</td>\n",
       "      <td>0</td>\n",
       "      <td>8.0500</td>\n",
       "      <td>S</td>\n",
       "      <td>Third</td>\n",
       "      <td>man</td>\n",
       "      <td>True</td>\n",
       "      <td>NaN</td>\n",
       "      <td>Southampton</td>\n",
       "      <td>no</td>\n",
       "      <td>True</td>\n",
       "    </tr>\n",
       "    <tr>\n",
       "      <th>...</th>\n",
       "      <td>...</td>\n",
       "      <td>...</td>\n",
       "      <td>...</td>\n",
       "      <td>...</td>\n",
       "      <td>...</td>\n",
       "      <td>...</td>\n",
       "      <td>...</td>\n",
       "      <td>...</td>\n",
       "      <td>...</td>\n",
       "      <td>...</td>\n",
       "      <td>...</td>\n",
       "      <td>...</td>\n",
       "      <td>...</td>\n",
       "      <td>...</td>\n",
       "      <td>...</td>\n",
       "    </tr>\n",
       "    <tr>\n",
       "      <th>886</th>\n",
       "      <td>0</td>\n",
       "      <td>2</td>\n",
       "      <td>male</td>\n",
       "      <td>27.0</td>\n",
       "      <td>0</td>\n",
       "      <td>0</td>\n",
       "      <td>13.0000</td>\n",
       "      <td>S</td>\n",
       "      <td>Second</td>\n",
       "      <td>man</td>\n",
       "      <td>True</td>\n",
       "      <td>NaN</td>\n",
       "      <td>Southampton</td>\n",
       "      <td>no</td>\n",
       "      <td>True</td>\n",
       "    </tr>\n",
       "    <tr>\n",
       "      <th>887</th>\n",
       "      <td>1</td>\n",
       "      <td>1</td>\n",
       "      <td>female</td>\n",
       "      <td>19.0</td>\n",
       "      <td>0</td>\n",
       "      <td>0</td>\n",
       "      <td>30.0000</td>\n",
       "      <td>S</td>\n",
       "      <td>First</td>\n",
       "      <td>woman</td>\n",
       "      <td>False</td>\n",
       "      <td>B</td>\n",
       "      <td>Southampton</td>\n",
       "      <td>yes</td>\n",
       "      <td>True</td>\n",
       "    </tr>\n",
       "    <tr>\n",
       "      <th>888</th>\n",
       "      <td>0</td>\n",
       "      <td>3</td>\n",
       "      <td>female</td>\n",
       "      <td>NaN</td>\n",
       "      <td>1</td>\n",
       "      <td>2</td>\n",
       "      <td>23.4500</td>\n",
       "      <td>S</td>\n",
       "      <td>Third</td>\n",
       "      <td>woman</td>\n",
       "      <td>False</td>\n",
       "      <td>NaN</td>\n",
       "      <td>Southampton</td>\n",
       "      <td>no</td>\n",
       "      <td>False</td>\n",
       "    </tr>\n",
       "    <tr>\n",
       "      <th>889</th>\n",
       "      <td>1</td>\n",
       "      <td>1</td>\n",
       "      <td>male</td>\n",
       "      <td>26.0</td>\n",
       "      <td>0</td>\n",
       "      <td>0</td>\n",
       "      <td>30.0000</td>\n",
       "      <td>C</td>\n",
       "      <td>First</td>\n",
       "      <td>man</td>\n",
       "      <td>True</td>\n",
       "      <td>C</td>\n",
       "      <td>Cherbourg</td>\n",
       "      <td>yes</td>\n",
       "      <td>True</td>\n",
       "    </tr>\n",
       "    <tr>\n",
       "      <th>890</th>\n",
       "      <td>0</td>\n",
       "      <td>3</td>\n",
       "      <td>male</td>\n",
       "      <td>32.0</td>\n",
       "      <td>0</td>\n",
       "      <td>0</td>\n",
       "      <td>7.7500</td>\n",
       "      <td>Q</td>\n",
       "      <td>Third</td>\n",
       "      <td>man</td>\n",
       "      <td>True</td>\n",
       "      <td>NaN</td>\n",
       "      <td>Queenstown</td>\n",
       "      <td>no</td>\n",
       "      <td>True</td>\n",
       "    </tr>\n",
       "  </tbody>\n",
       "</table>\n",
       "<p>891 rows × 15 columns</p>\n",
       "</div>"
      ],
      "text/plain": [
       "     survived  pclass     sex   age  sibsp  parch     fare embarked   class  \\\n",
       "0           0       3    male  22.0      1      0   7.2500        S   Third   \n",
       "1           1       1  female  38.0      1      0  71.2833        C   First   \n",
       "2           1       3  female  26.0      0      0   7.9250        S   Third   \n",
       "3           1       1  female  35.0      1      0  53.1000        S   First   \n",
       "4           0       3    male  35.0      0      0   8.0500        S   Third   \n",
       "..        ...     ...     ...   ...    ...    ...      ...      ...     ...   \n",
       "886         0       2    male  27.0      0      0  13.0000        S  Second   \n",
       "887         1       1  female  19.0      0      0  30.0000        S   First   \n",
       "888         0       3  female   NaN      1      2  23.4500        S   Third   \n",
       "889         1       1    male  26.0      0      0  30.0000        C   First   \n",
       "890         0       3    male  32.0      0      0   7.7500        Q   Third   \n",
       "\n",
       "       who  adult_male deck  embark_town alive  alone  \n",
       "0      man        True  NaN  Southampton    no  False  \n",
       "1    woman       False    C    Cherbourg   yes  False  \n",
       "2    woman       False  NaN  Southampton   yes   True  \n",
       "3    woman       False    C  Southampton   yes  False  \n",
       "4      man        True  NaN  Southampton    no   True  \n",
       "..     ...         ...  ...          ...   ...    ...  \n",
       "886    man        True  NaN  Southampton    no   True  \n",
       "887  woman       False    B  Southampton   yes   True  \n",
       "888  woman       False  NaN  Southampton    no  False  \n",
       "889    man        True    C    Cherbourg   yes   True  \n",
       "890    man        True  NaN   Queenstown    no   True  \n",
       "\n",
       "[891 rows x 15 columns]"
      ]
     },
     "execution_count": 3,
     "metadata": {},
     "output_type": "execute_result"
    }
   ],
   "source": [
    "df = pd.read_csv('https://raw.githubusercontent.com/mwaskom/seaborn-data/refs/heads/master/titanic.csv')\n",
    "df"
   ]
  },
  {
   "cell_type": "markdown",
   "id": "c2e9194c",
   "metadata": {},
   "source": [
    "## Reporting Statistics using the Pingouin Package and Visualizing Data with the Seaborn Package\n",
    "\n",
    "\n",
    "|  Code  | Description |\n",
    "| :-- | :-- |\n",
    "| **`import pingouin as pg`**  | Imports the (already-installed) package.  Can be called starting with `pg.<function_name>` |\n",
    "| **`pg.anova(data=df, dv='measurement_variable', between='group_variable', detailed=True)`** | Do a simple ANOVA between N groups of people |\n",
    "| **`pg.pairwise_tukey(data=df, dv='measurement_variable', between='group_variable')`** | Do pairwise t-tests on all combinations of the grouping variable |\n",
    "| **`import seaborn as sns`** | Load the (already-installed) `seaborn` package.  Its functions can be used by starting with `sns.<function_name>` |\n",
    "| **`sns.barplot(data=df, x='Group Variable', y='Measurement Variable', hue='An Extra Measurement Variable')`** | Make a bar plot of the data. |\n"
   ]
  },
  {
   "cell_type": "markdown",
   "id": "aec38935",
   "metadata": {},
   "source": [
    "**Exercises**"
   ]
  },
  {
   "cell_type": "markdown",
   "id": "d4e50a30",
   "metadata": {},
   "source": [
    "**Example: Was there a significant difference in mean passenger age between each passenger class?**"
   ]
  },
  {
   "cell_type": "markdown",
   "id": "d927ed63",
   "metadata": {},
   "source": [
    "ANOVA to check if a difference exists anywhere between the groups:"
   ]
  },
  {
   "cell_type": "code",
   "execution_count": 4,
   "id": "c4363d14",
   "metadata": {},
   "outputs": [
    {
     "data": {
      "text/html": [
       "<div>\n",
       "<style scoped>\n",
       "    .dataframe tbody tr th:only-of-type {\n",
       "        vertical-align: middle;\n",
       "    }\n",
       "\n",
       "    .dataframe tbody tr th {\n",
       "        vertical-align: top;\n",
       "    }\n",
       "\n",
       "    .dataframe thead th {\n",
       "        text-align: right;\n",
       "    }\n",
       "</style>\n",
       "<table border=\"1\" class=\"dataframe\">\n",
       "  <thead>\n",
       "    <tr style=\"text-align: right;\">\n",
       "      <th></th>\n",
       "      <th>Source</th>\n",
       "      <th>ddof1</th>\n",
       "      <th>ddof2</th>\n",
       "      <th>F</th>\n",
       "      <th>p-unc</th>\n",
       "      <th>np2</th>\n",
       "    </tr>\n",
       "  </thead>\n",
       "  <tbody>\n",
       "    <tr>\n",
       "      <th>0</th>\n",
       "      <td>class</td>\n",
       "      <td>2</td>\n",
       "      <td>711</td>\n",
       "      <td>57.443484</td>\n",
       "      <td>7.487984e-24</td>\n",
       "      <td>0.139107</td>\n",
       "    </tr>\n",
       "  </tbody>\n",
       "</table>\n",
       "</div>"
      ],
      "text/plain": [
       "  Source  ddof1  ddof2          F         p-unc       np2\n",
       "0  class      2    711  57.443484  7.487984e-24  0.139107"
      ]
     },
     "execution_count": 4,
     "metadata": {},
     "output_type": "execute_result"
    }
   ],
   "source": [
    "pg.anova(df, between='class', dv='age', )"
   ]
  },
  {
   "cell_type": "markdown",
   "id": "48038a2d",
   "metadata": {},
   "source": [
    "T-Tests to compare values between all combinations between the groups (i.e. if I'm comparing one class against another with a t-test, will I see a significant difference?)"
   ]
  },
  {
   "cell_type": "code",
   "execution_count": 5,
   "id": "03d36745",
   "metadata": {},
   "outputs": [
    {
     "data": {
      "text/html": [
       "<div>\n",
       "<style scoped>\n",
       "    .dataframe tbody tr th:only-of-type {\n",
       "        vertical-align: middle;\n",
       "    }\n",
       "\n",
       "    .dataframe tbody tr th {\n",
       "        vertical-align: top;\n",
       "    }\n",
       "\n",
       "    .dataframe thead th {\n",
       "        text-align: right;\n",
       "    }\n",
       "</style>\n",
       "<table border=\"1\" class=\"dataframe\">\n",
       "  <thead>\n",
       "    <tr style=\"text-align: right;\">\n",
       "      <th></th>\n",
       "      <th>A</th>\n",
       "      <th>B</th>\n",
       "      <th>mean(A)</th>\n",
       "      <th>mean(B)</th>\n",
       "      <th>diff</th>\n",
       "      <th>se</th>\n",
       "      <th>T</th>\n",
       "      <th>p-tukey</th>\n",
       "      <th>hedges</th>\n",
       "    </tr>\n",
       "  </thead>\n",
       "  <tbody>\n",
       "    <tr>\n",
       "      <th>0</th>\n",
       "      <td>First</td>\n",
       "      <td>Second</td>\n",
       "      <td>38.233441</td>\n",
       "      <td>29.87763</td>\n",
       "      <td>8.355811</td>\n",
       "      <td>1.425650</td>\n",
       "      <td>5.861051</td>\n",
       "      <td>2.109710e-08</td>\n",
       "      <td>0.578156</td>\n",
       "    </tr>\n",
       "    <tr>\n",
       "      <th>1</th>\n",
       "      <td>First</td>\n",
       "      <td>Third</td>\n",
       "      <td>38.233441</td>\n",
       "      <td>25.14062</td>\n",
       "      <td>13.092821</td>\n",
       "      <td>1.221725</td>\n",
       "      <td>10.716671</td>\n",
       "      <td>0.000000e+00</td>\n",
       "      <td>0.980658</td>\n",
       "    </tr>\n",
       "    <tr>\n",
       "      <th>2</th>\n",
       "      <td>Second</td>\n",
       "      <td>Third</td>\n",
       "      <td>29.877630</td>\n",
       "      <td>25.14062</td>\n",
       "      <td>4.737010</td>\n",
       "      <td>1.251483</td>\n",
       "      <td>3.785116</td>\n",
       "      <td>4.884441e-04</td>\n",
       "      <td>0.363671</td>\n",
       "    </tr>\n",
       "  </tbody>\n",
       "</table>\n",
       "</div>"
      ],
      "text/plain": [
       "        A       B    mean(A)   mean(B)       diff        se          T  \\\n",
       "0   First  Second  38.233441  29.87763   8.355811  1.425650   5.861051   \n",
       "1   First   Third  38.233441  25.14062  13.092821  1.221725  10.716671   \n",
       "2  Second   Third  29.877630  25.14062   4.737010  1.251483   3.785116   \n",
       "\n",
       "        p-tukey    hedges  \n",
       "0  2.109710e-08  0.578156  \n",
       "1  0.000000e+00  0.980658  \n",
       "2  4.884441e-04  0.363671  "
      ]
     },
     "execution_count": 5,
     "metadata": {},
     "output_type": "execute_result"
    }
   ],
   "source": [
    "pg.pairwise_tukey(df, between='class', dv='age', )"
   ]
  },
  {
   "cell_type": "markdown",
   "id": "93618470",
   "metadata": {},
   "source": [
    "Make a bar plot to show the mean value of each group:"
   ]
  },
  {
   "cell_type": "code",
   "execution_count": 6,
   "id": "8c230ccc",
   "metadata": {},
   "outputs": [
    {
     "data": {
      "image/png": "[encoded data removed]",
      "text/plain": [
       "<Figure size 640x480 with 1 Axes>"
      ]
     },
     "metadata": {},
     "output_type": "display_data"
    }
   ],
   "source": [
    "class_order = ['Third', 'Second', 'First']\n",
    "sns.barplot(df, x='class', y='age', order=class_order);"
   ]
  },
  {
   "cell_type": "markdown",
   "id": "30321876",
   "metadata": {},
   "source": [
    "**Was there a significant difference in mean fare between each passenger class?**"
   ]
  },
  {
   "cell_type": "markdown",
   "id": "ff63910e",
   "metadata": {},
   "source": [
    "ANOVA to check if a difference exists anywhere between the groups:"
   ]
  },
  {
   "cell_type": "code",
   "execution_count": 7,
   "id": "db2b99f9",
   "metadata": {},
   "outputs": [
    {
     "data": {
      "text/html": [
       "<div>\n",
       "<style scoped>\n",
       "    .dataframe tbody tr th:only-of-type {\n",
       "        vertical-align: middle;\n",
       "    }\n",
       "\n",
       "    .dataframe tbody tr th {\n",
       "        vertical-align: top;\n",
       "    }\n",
       "\n",
       "    .dataframe thead th {\n",
       "        text-align: right;\n",
       "    }\n",
       "</style>\n",
       "<table border=\"1\" class=\"dataframe\">\n",
       "  <thead>\n",
       "    <tr style=\"text-align: right;\">\n",
       "      <th></th>\n",
       "      <th>Source</th>\n",
       "      <th>SS</th>\n",
       "      <th>DF</th>\n",
       "      <th>MS</th>\n",
       "      <th>F</th>\n",
       "      <th>p-unc</th>\n",
       "      <th>np2</th>\n",
       "    </tr>\n",
       "  </thead>\n",
       "  <tbody>\n",
       "    <tr>\n",
       "      <th>0</th>\n",
       "      <td>class</td>\n",
       "      <td>7.760301e+05</td>\n",
       "      <td>2</td>\n",
       "      <td>388015.028289</td>\n",
       "      <td>242.344157</td>\n",
       "      <td>1.031376e-84</td>\n",
       "      <td>0.353094</td>\n",
       "    </tr>\n",
       "    <tr>\n",
       "      <th>1</th>\n",
       "      <td>Within</td>\n",
       "      <td>1.421769e+06</td>\n",
       "      <td>888</td>\n",
       "      <td>1601.090919</td>\n",
       "      <td>NaN</td>\n",
       "      <td>NaN</td>\n",
       "      <td>NaN</td>\n",
       "    </tr>\n",
       "  </tbody>\n",
       "</table>\n",
       "</div>"
      ],
      "text/plain": [
       "   Source            SS   DF             MS           F         p-unc  \\\n",
       "0   class  7.760301e+05    2  388015.028289  242.344157  1.031376e-84   \n",
       "1  Within  1.421769e+06  888    1601.090919         NaN           NaN   \n",
       "\n",
       "        np2  \n",
       "0  0.353094  \n",
       "1       NaN  "
      ]
     },
     "execution_count": 7,
     "metadata": {},
     "output_type": "execute_result"
    }
   ],
   "source": [
    "pg.anova(data=df, dv='fare', between='class', detailed=True)"
   ]
  },
  {
   "cell_type": "markdown",
   "id": "567a1b93",
   "metadata": {},
   "source": [
    "T-Tests to compare values between all combinations between the groups (i.e. if I'm comparing one class against another with a t-test, will I see a significant difference?)"
   ]
  },
  {
   "cell_type": "code",
   "execution_count": 8,
   "id": "8fc58476",
   "metadata": {},
   "outputs": [
    {
     "data": {
      "text/html": [
       "<div>\n",
       "<style scoped>\n",
       "    .dataframe tbody tr th:only-of-type {\n",
       "        vertical-align: middle;\n",
       "    }\n",
       "\n",
       "    .dataframe tbody tr th {\n",
       "        vertical-align: top;\n",
       "    }\n",
       "\n",
       "    .dataframe thead th {\n",
       "        text-align: right;\n",
       "    }\n",
       "</style>\n",
       "<table border=\"1\" class=\"dataframe\">\n",
       "  <thead>\n",
       "    <tr style=\"text-align: right;\">\n",
       "      <th></th>\n",
       "      <th>A</th>\n",
       "      <th>B</th>\n",
       "      <th>mean(A)</th>\n",
       "      <th>mean(B)</th>\n",
       "      <th>diff</th>\n",
       "      <th>se</th>\n",
       "      <th>T</th>\n",
       "      <th>p-tukey</th>\n",
       "      <th>hedges</th>\n",
       "    </tr>\n",
       "  </thead>\n",
       "  <tbody>\n",
       "    <tr>\n",
       "      <th>0</th>\n",
       "      <td>First</td>\n",
       "      <td>Second</td>\n",
       "      <td>84.154687</td>\n",
       "      <td>20.662183</td>\n",
       "      <td>63.492504</td>\n",
       "      <td>4.014230</td>\n",
       "      <td>15.816859</td>\n",
       "      <td>0.000000</td>\n",
       "      <td>1.086596</td>\n",
       "    </tr>\n",
       "    <tr>\n",
       "      <th>1</th>\n",
       "      <td>First</td>\n",
       "      <td>Third</td>\n",
       "      <td>84.154687</td>\n",
       "      <td>13.675550</td>\n",
       "      <td>70.479137</td>\n",
       "      <td>3.267007</td>\n",
       "      <td>21.572998</td>\n",
       "      <td>0.000000</td>\n",
       "      <td>1.586241</td>\n",
       "    </tr>\n",
       "    <tr>\n",
       "      <th>2</th>\n",
       "      <td>Second</td>\n",
       "      <td>Third</td>\n",
       "      <td>20.662183</td>\n",
       "      <td>13.675550</td>\n",
       "      <td>6.986633</td>\n",
       "      <td>3.458679</td>\n",
       "      <td>2.020029</td>\n",
       "      <td>0.107983</td>\n",
       "      <td>0.569905</td>\n",
       "    </tr>\n",
       "  </tbody>\n",
       "</table>\n",
       "</div>"
      ],
      "text/plain": [
       "        A       B    mean(A)    mean(B)       diff        se          T  \\\n",
       "0   First  Second  84.154687  20.662183  63.492504  4.014230  15.816859   \n",
       "1   First   Third  84.154687  13.675550  70.479137  3.267007  21.572998   \n",
       "2  Second   Third  20.662183  13.675550   6.986633  3.458679   2.020029   \n",
       "\n",
       "    p-tukey    hedges  \n",
       "0  0.000000  1.086596  \n",
       "1  0.000000  1.586241  \n",
       "2  0.107983  0.569905  "
      ]
     },
     "execution_count": 8,
     "metadata": {},
     "output_type": "execute_result"
    }
   ],
   "source": [
    "pg.pairwise_tukey(df, between='class', dv='fare', )"
   ]
  },
  {
   "cell_type": "markdown",
   "id": "ae1dbcda",
   "metadata": {},
   "source": [
    "Make a bar plot to show the mean value of each group:"
   ]
  },
  {
   "cell_type": "code",
   "execution_count": 9,
   "id": "77ea0ec8",
   "metadata": {},
   "outputs": [
    {
     "data": {
      "image/png": "[encoded data removed]",
      "text/plain": [
       "<Figure size 640x480 with 1 Axes>"
      ]
     },
     "metadata": {},
     "output_type": "display_data"
    }
   ],
   "source": [
    "class_order = ['Third', 'Second', 'First']\n",
    "sns.barplot(df, x='class', y='fare', order=class_order);"
   ]
  },
  {
   "cell_type": "markdown",
   "id": "1ef6a154",
   "metadata": {},
   "source": [
    "**Was there a significant difference in survival rate between each passenger class?**"
   ]
  },
  {
   "cell_type": "markdown",
   "id": "10e3332a",
   "metadata": {},
   "source": [
    "ANOVA to check if a difference exists anywhere between the groups:"
   ]
  },
  {
   "cell_type": "code",
   "execution_count": 10,
   "id": "588d5a67",
   "metadata": {},
   "outputs": [
    {
     "data": {
      "text/html": [
       "<div>\n",
       "<style scoped>\n",
       "    .dataframe tbody tr th:only-of-type {\n",
       "        vertical-align: middle;\n",
       "    }\n",
       "\n",
       "    .dataframe tbody tr th {\n",
       "        vertical-align: top;\n",
       "    }\n",
       "\n",
       "    .dataframe thead th {\n",
       "        text-align: right;\n",
       "    }\n",
       "</style>\n",
       "<table border=\"1\" class=\"dataframe\">\n",
       "  <thead>\n",
       "    <tr style=\"text-align: right;\">\n",
       "      <th></th>\n",
       "      <th>Source</th>\n",
       "      <th>SS</th>\n",
       "      <th>DF</th>\n",
       "      <th>MS</th>\n",
       "      <th>F</th>\n",
       "      <th>p-unc</th>\n",
       "      <th>np2</th>\n",
       "    </tr>\n",
       "  </thead>\n",
       "  <tbody>\n",
       "    <tr>\n",
       "      <th>0</th>\n",
       "      <td>class</td>\n",
       "      <td>24.333912</td>\n",
       "      <td>2</td>\n",
       "      <td>12.166956</td>\n",
       "      <td>57.964818</td>\n",
       "      <td>2.183247e-24</td>\n",
       "      <td>0.115476</td>\n",
       "    </tr>\n",
       "    <tr>\n",
       "      <th>1</th>\n",
       "      <td>Within</td>\n",
       "      <td>186.393360</td>\n",
       "      <td>888</td>\n",
       "      <td>0.209902</td>\n",
       "      <td>NaN</td>\n",
       "      <td>NaN</td>\n",
       "      <td>NaN</td>\n",
       "    </tr>\n",
       "  </tbody>\n",
       "</table>\n",
       "</div>"
      ],
      "text/plain": [
       "   Source          SS   DF         MS          F         p-unc       np2\n",
       "0   class   24.333912    2  12.166956  57.964818  2.183247e-24  0.115476\n",
       "1  Within  186.393360  888   0.209902        NaN           NaN       NaN"
      ]
     },
     "execution_count": 10,
     "metadata": {},
     "output_type": "execute_result"
    }
   ],
   "source": [
    "pg.anova(data=df, dv='survived', between='class', detailed=True)"
   ]
  },
  {
   "cell_type": "markdown",
   "id": "23d1f889",
   "metadata": {},
   "source": [
    "T-Tests to compare values between all combinations between the groups (i.e. if I'm comparing one class against another with a t-test, will I see a significant difference?)"
   ]
  },
  {
   "cell_type": "code",
   "execution_count": 11,
   "id": "a989dd26",
   "metadata": {},
   "outputs": [
    {
     "data": {
      "text/html": [
       "<div>\n",
       "<style scoped>\n",
       "    .dataframe tbody tr th:only-of-type {\n",
       "        vertical-align: middle;\n",
       "    }\n",
       "\n",
       "    .dataframe tbody tr th {\n",
       "        vertical-align: top;\n",
       "    }\n",
       "\n",
       "    .dataframe thead th {\n",
       "        text-align: right;\n",
       "    }\n",
       "</style>\n",
       "<table border=\"1\" class=\"dataframe\">\n",
       "  <thead>\n",
       "    <tr style=\"text-align: right;\">\n",
       "      <th></th>\n",
       "      <th>A</th>\n",
       "      <th>B</th>\n",
       "      <th>mean(A)</th>\n",
       "      <th>mean(B)</th>\n",
       "      <th>diff</th>\n",
       "      <th>se</th>\n",
       "      <th>T</th>\n",
       "      <th>p-tukey</th>\n",
       "      <th>hedges</th>\n",
       "    </tr>\n",
       "  </thead>\n",
       "  <tbody>\n",
       "    <tr>\n",
       "      <th>0</th>\n",
       "      <td>First</td>\n",
       "      <td>Second</td>\n",
       "      <td>0.629630</td>\n",
       "      <td>0.472826</td>\n",
       "      <td>0.156804</td>\n",
       "      <td>0.045962</td>\n",
       "      <td>3.411559</td>\n",
       "      <td>1.950021e-03</td>\n",
       "      <td>0.318282</td>\n",
       "    </tr>\n",
       "    <tr>\n",
       "      <th>1</th>\n",
       "      <td>First</td>\n",
       "      <td>Third</td>\n",
       "      <td>0.629630</td>\n",
       "      <td>0.242363</td>\n",
       "      <td>0.387267</td>\n",
       "      <td>0.037407</td>\n",
       "      <td>10.352847</td>\n",
       "      <td>0.000000e+00</td>\n",
       "      <td>0.866482</td>\n",
       "    </tr>\n",
       "    <tr>\n",
       "      <th>2</th>\n",
       "      <td>Second</td>\n",
       "      <td>Third</td>\n",
       "      <td>0.472826</td>\n",
       "      <td>0.242363</td>\n",
       "      <td>0.230464</td>\n",
       "      <td>0.039601</td>\n",
       "      <td>5.819575</td>\n",
       "      <td>2.468457e-08</td>\n",
       "      <td>0.512058</td>\n",
       "    </tr>\n",
       "  </tbody>\n",
       "</table>\n",
       "</div>"
      ],
      "text/plain": [
       "        A       B   mean(A)   mean(B)      diff        se          T  \\\n",
       "0   First  Second  0.629630  0.472826  0.156804  0.045962   3.411559   \n",
       "1   First   Third  0.629630  0.242363  0.387267  0.037407  10.352847   \n",
       "2  Second   Third  0.472826  0.242363  0.230464  0.039601   5.819575   \n",
       "\n",
       "        p-tukey    hedges  \n",
       "0  1.950021e-03  0.318282  \n",
       "1  0.000000e+00  0.866482  \n",
       "2  2.468457e-08  0.512058  "
      ]
     },
     "execution_count": 11,
     "metadata": {},
     "output_type": "execute_result"
    }
   ],
   "source": [
    "pg.pairwise_tukey(df, between='class', dv='survived', )"
   ]
  },
  {
   "cell_type": "markdown",
   "id": "ca67f07c",
   "metadata": {},
   "source": [
    "Make a bar plot to show the mean value of each group:"
   ]
  },
  {
   "cell_type": "code",
   "execution_count": 12,
   "id": "60c242b3",
   "metadata": {},
   "outputs": [
    {
     "data": {
      "image/png": "[encoded data removed]",
      "text/plain": [
       "<Figure size 640x480 with 1 Axes>"
      ]
     },
     "metadata": {},
     "output_type": "display_data"
    }
   ],
   "source": [
    "class_order = ['Third', 'Second', 'First']\n",
    "sns.barplot(df, x='class', y='survived', order=class_order);"
   ]
  },
  {
   "cell_type": "markdown",
   "id": "f5eff747",
   "metadata": {
    "cell_id": "00032-d61e5534-dfc8-4f81-a9a5-d27bacd30259",
    "deepnote_cell_type": "markdown",
    "id": "defined-commission"
   },
   "source": [
    "Extra bar plot, just for fun: What was the survival rate, broken down by both sex and class? (hint: `hue=`)"
   ]
  },
  {
   "cell_type": "code",
   "execution_count": 13,
   "id": "04497dd0",
   "metadata": {},
   "outputs": [
    {
     "data": {
      "image/png": "[encoded data removed]",
      "text/plain": [
       "<Figure size 640x480 with 1 Axes>"
      ]
     },
     "metadata": {},
     "output_type": "display_data"
    }
   ],
   "source": [
    "class_order = ['Third', 'Second', 'First']\n",
    "sns.barplot(df, x='class', y='survived', order=class_order, hue='sex');"
   ]
  }
 ],
 "metadata": {
  "colab": {
   "name": "14_Groupby_Seaborn.ipynb",
   "provenance": []
  },
  "deepnote": {},
  "deepnote_execution_queue": [],
  "deepnote_notebook_id": "200028b5-d356-42c7-bd8a-c23539b7340c",
  "kernelspec": {
   "display_name": "basic",
   "language": "python",
   "name": "python3"
  },
  "language_info": {
   "codemirror_mode": {
    "name": "ipython",
    "version": 3
   },
   "file_extension": ".py",
   "mimetype": "text/x-python",
   "name": "python",
   "nbconvert_exporter": "python",
   "pygments_lexer": "ipython3",
   "version": "3.12.7"
  }
 },
 "nbformat": 4,
 "nbformat_minor": 5
}
