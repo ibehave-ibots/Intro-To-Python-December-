{
 "cells": [
  {
   "cell_type": "code",
   "execution_count": null,
   "id": "dd97d00b",
   "metadata": {},
   "outputs": [],
   "source": [
    "%pip install pandas seaborn pingouin"
   ]
  },
  {
   "cell_type": "code",
   "execution_count": null,
   "id": "a4c401c0",
   "metadata": {
    "cell_id": "00000-89fff6f0-8997-4f4b-ad02-c07eca537b8c",
    "deepnote_cell_type": "code",
    "deepnote_to_be_reexecuted": false,
    "execution_millis": 0,
    "execution_start": 1628779729427,
    "id": "bottom-declaration",
    "source_hash": "9b82ee11"
   },
   "outputs": [],
   "source": [
    "import pandas as pd\n",
    "import pingouin as pg\n",
    "import seaborn as sns"
   ]
  },
  {
   "cell_type": "markdown",
   "id": "c5dd7da9",
   "metadata": {},
   "source": [
    "## Using Data Science Notebooks to Report Analysis Results\n",
    "\n"
   ]
  },
  {
   "cell_type": "markdown",
   "id": "f50982fb",
   "metadata": {},
   "source": [
    "\n",
    "Data science notebooks, like Jupyter Notebooks, have changed how researchers do and share their work. These notebooks let you mix code, data, and text in one place. This helps researchers explain their methods and show their results clearly. You can include code, text, equations, charts, and even videos. This makes it easier to share complex ideas with others, like peers, reviewers, and the public.\n",
    "\n",
    "One big benefit of data science notebooks is that they help make research reproducible. Reproducibility means that others can repeat your work and get the same results. Notebooks save the whole process of your analysis, from data cleaning to final results. By sharing the notebook, you give others everything they need to repeat your study, including the exact code and outputs. This builds trust in your findings and helps others build on your work.\n",
    "\n",
    "In this notebook, we'll try out the following Python packages, doing a few analyses and showing their results right next to the code:\n",
    "  -  `pandas`: Makes it simple to reference variables in a study and show a table of the data, \n",
    "  - `seaborn`: Makes it simple to make plots from pandas tables,\n",
    "  - `pingouin`: Makes nice statistical tables from pandas tables."
   ]
  },
  {
   "cell_type": "markdown",
   "id": "f7f5f14e",
   "metadata": {},
   "source": [
    "### Our Dataset: The Passengers on the Titanic\n",
    "\n",
    "below, we load the data.  Every row is a passenger, every column is a variable about that passenger.  Please run the code and take a look at the dataset.  We'll use it in the next two sections."
   ]
  },
  {
   "cell_type": "code",
   "execution_count": null,
   "id": "405cf086",
   "metadata": {},
   "outputs": [],
   "source": [
    "df = pd.read_csv('https://raw.githubusercontent.com/mwaskom/seaborn-data/refs/heads/master/titanic.csv')\n",
    "df"
   ]
  },
  {
   "cell_type": "markdown",
   "id": "c2e9194c",
   "metadata": {},
   "source": [
    "## Reporting Statistics using the Pingouin Package and Visualizing Data with the Seaborn Package\n",
    "\n",
    "\n",
    "|  Code  | Description |\n",
    "| :-- | :-- |\n",
    "| **`import pingouin as pg`**  | Imports the (already-installed) package.  Can be called starting with `pg.<function_name>` |\n",
    "| **`pg.anova(data=df, dv='measurement_variable', between='group_variable', detailed=True)`** | Do a simple ANOVA between N groups of people |\n",
    "| **`pg.pairwise_tukey(data=df, dv='measurement_variable', between='group_variable')`** | Do pairwise t-tests on all combinations of the grouping variable |\n",
    "| **`import seaborn as sns`** | Load the (already-installed) `seaborn` package.  Its functions can be used by starting with `sns.<function_name>` |\n",
    "| **`sns.barplot(data=df, x='Group Variable', y='Measurement Variable', hue='An Extra Measurement Variable')`** | Make a bar plot of the data. |\n"
   ]
  },
  {
   "cell_type": "markdown",
   "id": "aec38935",
   "metadata": {},
   "source": [
    "**Exercises**"
   ]
  },
  {
   "cell_type": "markdown",
   "id": "d4e50a30",
   "metadata": {},
   "source": [
    "**Example: Was there a significant difference in mean passenger age between each passenger class?**"
   ]
  },
  {
   "cell_type": "markdown",
   "id": "d927ed63",
   "metadata": {},
   "source": [
    "ANOVA to check if a difference exists anywhere between the groups:"
   ]
  },
  {
   "cell_type": "code",
   "execution_count": null,
   "id": "c4363d14",
   "metadata": {},
   "outputs": [],
   "source": [
    "pg.anova(df, between='class', dv='age', )"
   ]
  },
  {
   "cell_type": "markdown",
   "id": "48038a2d",
   "metadata": {},
   "source": [
    "T-Tests to compare values between all combinations between the groups (i.e. if I'm comparing one class against another with a t-test, will I see a significant difference?)"
   ]
  },
  {
   "cell_type": "code",
   "execution_count": null,
   "id": "03d36745",
   "metadata": {},
   "outputs": [],
   "source": [
    "pg.pairwise_tukey(df, between='class', dv='age', )"
   ]
  },
  {
   "cell_type": "markdown",
   "id": "93618470",
   "metadata": {},
   "source": [
    "Make a bar plot to show the mean value of each group:"
   ]
  },
  {
   "cell_type": "code",
   "execution_count": null,
   "id": "8c230ccc",
   "metadata": {},
   "outputs": [],
   "source": [
    "class_order = ['Third', 'Second', 'First']\n",
    "sns.barplot(df, x='class', y='age', order=class_order);"
   ]
  },
  {
   "cell_type": "markdown",
   "id": "30321876",
   "metadata": {},
   "source": [
    "**Was there a significant difference in mean fare between each passenger class?**"
   ]
  },
  {
   "cell_type": "markdown",
   "id": "ff63910e",
   "metadata": {},
   "source": [
    "ANOVA to check if a difference exists anywhere between the groups:"
   ]
  },
  {
   "cell_type": "code",
   "execution_count": null,
   "id": "db2b99f9",
   "metadata": {},
   "outputs": [],
   "source": []
  },
  {
   "cell_type": "markdown",
   "id": "567a1b93",
   "metadata": {},
   "source": [
    "T-Tests to compare values between all combinations between the groups (i.e. if I'm comparing one class against another with a t-test, will I see a significant difference?)"
   ]
  },
  {
   "cell_type": "code",
   "execution_count": null,
   "id": "8fc58476",
   "metadata": {},
   "outputs": [],
   "source": []
  },
  {
   "cell_type": "markdown",
   "id": "ae1dbcda",
   "metadata": {},
   "source": [
    "Make a bar plot to show the mean value of each group:"
   ]
  },
  {
   "cell_type": "code",
   "execution_count": null,
   "id": "77ea0ec8",
   "metadata": {},
   "outputs": [],
   "source": []
  },
  {
   "cell_type": "markdown",
   "id": "1ef6a154",
   "metadata": {},
   "source": [
    "**Was there a significant difference in survival rate between each passenger class?**"
   ]
  },
  {
   "cell_type": "markdown",
   "id": "10e3332a",
   "metadata": {},
   "source": [
    "ANOVA to check if a difference exists anywhere between the groups:"
   ]
  },
  {
   "cell_type": "code",
   "execution_count": null,
   "id": "588d5a67",
   "metadata": {},
   "outputs": [],
   "source": []
  },
  {
   "cell_type": "markdown",
   "id": "23d1f889",
   "metadata": {},
   "source": [
    "T-Tests to compare values between all combinations between the groups (i.e. if I'm comparing one class against another with a t-test, will I see a significant difference?)"
   ]
  },
  {
   "cell_type": "code",
   "execution_count": null,
   "id": "a989dd26",
   "metadata": {},
   "outputs": [],
   "source": []
  },
  {
   "cell_type": "markdown",
   "id": "ca67f07c",
   "metadata": {},
   "source": [
    "Make a bar plot to show the mean value of each group:"
   ]
  },
  {
   "cell_type": "code",
   "execution_count": null,
   "id": "60c242b3",
   "metadata": {},
   "outputs": [],
   "source": []
  },
  {
   "cell_type": "markdown",
   "id": "f5eff747",
   "metadata": {
    "cell_id": "00032-d61e5534-dfc8-4f81-a9a5-d27bacd30259",
    "deepnote_cell_type": "markdown",
    "id": "defined-commission"
   },
   "source": [
    "Extra bar plot, just for fun: What was the survival rate, broken down by both sex and class? (hint: `hue=`)"
   ]
  },
  {
   "cell_type": "code",
   "execution_count": null,
   "id": "04497dd0",
   "metadata": {},
   "outputs": [],
   "source": []
  }
 ],
 "metadata": {
  "colab": {
   "name": "14_Groupby_Seaborn.ipynb",
   "provenance": []
  },
  "deepnote": {},
  "deepnote_execution_queue": [],
  "deepnote_notebook_id": "200028b5-d356-42c7-bd8a-c23539b7340c",
  "kernelspec": {
   "display_name": "ds",
   "language": "python",
   "name": "python3"
  },
  "language_info": {
   "codemirror_mode": {
    "name": "ipython",
    "version": 3
   },
   "file_extension": ".py",
   "mimetype": "text/x-python",
   "name": "python",
   "nbconvert_exporter": "python",
   "pygments_lexer": "ipython3",
   "version": "3.11.9"
  }
 },
 "nbformat": 4,
 "nbformat_minor": 5
}
